{
 "cells": [
  {
   "cell_type": "code",
   "execution_count": 3,
   "id": "5e67f016",
   "metadata": {},
   "outputs": [],
   "source": [
    "import pandas as pd"
   ]
  },
  {
   "cell_type": "code",
   "execution_count": 4,
   "id": "f60f24a3",
   "metadata": {},
   "outputs": [],
   "source": [
    "Actual = ['cat', 'cat', 'not cat', 'cat', 'not cat', 'not cat']"
   ]
  },
  {
   "cell_type": "code",
   "execution_count": 5,
   "id": "7c6a6ef2",
   "metadata": {},
   "outputs": [],
   "source": [
    "Predicted = ['cat', 'not cat', 'cat', 'cat', 'cat', 'not cat']"
   ]
  },
  {
   "cell_type": "code",
   "execution_count": 6,
   "id": "5a34d8b2",
   "metadata": {},
   "outputs": [],
   "source": [
    "df = pd.DataFrame({\n",
    "    'actual': Actual,\n",
    "    'predicted': Predicted\n",
    "})"
   ]
  },
  {
   "cell_type": "code",
   "execution_count": 7,
   "id": "df163f75",
   "metadata": {},
   "outputs": [
    {
     "data": {
      "text/html": [
       "<div>\n",
       "<style scoped>\n",
       "    .dataframe tbody tr th:only-of-type {\n",
       "        vertical-align: middle;\n",
       "    }\n",
       "\n",
       "    .dataframe tbody tr th {\n",
       "        vertical-align: top;\n",
       "    }\n",
       "\n",
       "    .dataframe thead th {\n",
       "        text-align: right;\n",
       "    }\n",
       "</style>\n",
       "<table border=\"1\" class=\"dataframe\">\n",
       "  <thead>\n",
       "    <tr style=\"text-align: right;\">\n",
       "      <th></th>\n",
       "      <th>actual</th>\n",
       "      <th>predicted</th>\n",
       "    </tr>\n",
       "  </thead>\n",
       "  <tbody>\n",
       "    <tr>\n",
       "      <th>0</th>\n",
       "      <td>cat</td>\n",
       "      <td>cat</td>\n",
       "    </tr>\n",
       "    <tr>\n",
       "      <th>1</th>\n",
       "      <td>cat</td>\n",
       "      <td>not cat</td>\n",
       "    </tr>\n",
       "    <tr>\n",
       "      <th>2</th>\n",
       "      <td>not cat</td>\n",
       "      <td>cat</td>\n",
       "    </tr>\n",
       "    <tr>\n",
       "      <th>3</th>\n",
       "      <td>cat</td>\n",
       "      <td>cat</td>\n",
       "    </tr>\n",
       "    <tr>\n",
       "      <th>4</th>\n",
       "      <td>not cat</td>\n",
       "      <td>cat</td>\n",
       "    </tr>\n",
       "    <tr>\n",
       "      <th>5</th>\n",
       "      <td>not cat</td>\n",
       "      <td>not cat</td>\n",
       "    </tr>\n",
       "  </tbody>\n",
       "</table>\n",
       "</div>"
      ],
      "text/plain": [
       "    actual predicted\n",
       "0      cat       cat\n",
       "1      cat   not cat\n",
       "2  not cat       cat\n",
       "3      cat       cat\n",
       "4  not cat       cat\n",
       "5  not cat   not cat"
      ]
     },
     "execution_count": 7,
     "metadata": {},
     "output_type": "execute_result"
    }
   ],
   "source": [
    "df"
   ]
  },
  {
   "cell_type": "markdown",
   "id": "55216c2c",
   "metadata": {},
   "source": [
    "## CAT"
   ]
  },
  {
   "cell_type": "code",
   "execution_count": 10,
   "id": "cf9efb1b",
   "metadata": {},
   "outputs": [],
   "source": [
    "# total predicted as cat => 4\n",
    "# true => 2     => True positive\n",
    "# false => 2    => False positive\n",
    "TP = 2\n",
    "FP = 2"
   ]
  },
  {
   "cell_type": "code",
   "execution_count": 11,
   "id": "5deb778c",
   "metadata": {},
   "outputs": [],
   "source": [
    "# total predicted as not cat => 2\n",
    "# true => 1     => True negative\n",
    "# false => 1    => False negative\n",
    "\n",
    "TN = 1\n",
    "FN = 1"
   ]
  },
  {
   "cell_type": "code",
   "execution_count": 12,
   "id": "f9675574",
   "metadata": {},
   "outputs": [
    {
     "data": {
      "text/plain": [
       "0.5"
      ]
     },
     "execution_count": 12,
     "metadata": {},
     "output_type": "execute_result"
    }
   ],
   "source": [
    "# Accuracy\n",
    "# out of all the prediction how many u got right\n",
    "\n",
    "(TP + TN) / 6"
   ]
  },
  {
   "cell_type": "code",
   "execution_count": 13,
   "id": "b4204eeb",
   "metadata": {},
   "outputs": [
    {
     "data": {
      "text/plain": [
       "0.5"
      ]
     },
     "execution_count": 13,
     "metadata": {},
     "output_type": "execute_result"
    }
   ],
   "source": [
    "# Precision(cat)  =>\n",
    "# total predicted as cat / actual cat in those predictions\n",
    "# also cat\n",
    "# 2 / 4\n",
    "TP / (TP+FP)"
   ]
  },
  {
   "cell_type": "code",
   "execution_count": 15,
   "id": "1248509f",
   "metadata": {},
   "outputs": [
    {
     "data": {
      "text/plain": [
       "0.6666666666666666"
      ]
     },
     "execution_count": 15,
     "metadata": {},
     "output_type": "execute_result"
    }
   ],
   "source": [
    "# Recall(cat)  =>\n",
    "# those which model predicted correctly as cat / actual cats\n",
    "\n",
    "2 / 3"
   ]
  },
  {
   "cell_type": "code",
   "execution_count": 16,
   "id": "a675a856",
   "metadata": {},
   "outputs": [],
   "source": [
    "# f1 score => harmonic mean of precision and recall"
   ]
  },
  {
   "cell_type": "code",
   "execution_count": 17,
   "id": "9ad8f7db",
   "metadata": {},
   "outputs": [],
   "source": [
    "# support\n",
    "\n",
    "# count of each class\n",
    "\n",
    "cat = 3\n",
    "not_cat = 3"
   ]
  },
  {
   "cell_type": "code",
   "execution_count": null,
   "id": "27d2e670",
   "metadata": {},
   "outputs": [],
   "source": []
  }
 ],
 "metadata": {
  "kernelspec": {
   "display_name": "Python 3 (ipykernel)",
   "language": "python",
   "name": "python3"
  },
  "language_info": {
   "codemirror_mode": {
    "name": "ipython",
    "version": 3
   },
   "file_extension": ".py",
   "mimetype": "text/x-python",
   "name": "python",
   "nbconvert_exporter": "python",
   "pygments_lexer": "ipython3",
   "version": "3.11.5"
  }
 },
 "nbformat": 4,
 "nbformat_minor": 5
}
